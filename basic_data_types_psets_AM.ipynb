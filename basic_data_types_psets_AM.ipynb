{
  "nbformat": 4,
  "nbformat_minor": 0,
  "metadata": {
    "colab": {
      "name": "basic_data_types_psets_AM.ipynb",
      "provenance": [],
      "collapsed_sections": [
        "CXt8F7evWHum",
        "ujd4_d5VVrWD",
        "VbaMGAAYVrWH",
        "3j0bS-HcWNLi",
        "WAYZJHHgVrWk",
        "TqqaKHjuVrWn",
        "T4rtuQ1CVrWr",
        "XlNf2YptWKVu",
        "HWOwfU00VrWS",
        "sX291wpjWQea",
        "tr50TO3xVrW1"
      ],
      "include_colab_link": true
    },
    "kernelspec": {
      "name": "python3",
      "display_name": "Python 3"
    }
  },
  "cells": [
    {
      "cell_type": "markdown",
      "metadata": {
        "id": "view-in-github",
        "colab_type": "text"
      },
      "source": [
        "<a href=\"https://colab.research.google.com/github/RitaRitaIsOOO/PYTH_Homework/blob/master/basic_data_types_psets_AM.ipynb\" target=\"_parent\"><img src=\"https://colab.research.google.com/assets/colab-badge.svg\" alt=\"Open In Colab\"/></a>"
      ]
    },
    {
      "cell_type": "markdown",
      "metadata": {
        "id": "hFmxhgDQVrV8",
        "colab_type": "text"
      },
      "source": [
        "#  BASIC DATA TYPES\n",
        "\n"
      ]
    },
    {
      "cell_type": "markdown",
      "metadata": {
        "id": "uayAR97cWGX1",
        "colab_type": "text"
      },
      "source": [
        "## EASY"
      ]
    },
    {
      "cell_type": "markdown",
      "metadata": {
        "id": "CXt8F7evWHum",
        "colab_type": "text"
      },
      "source": [
        "### P1.PY"
      ]
    },
    {
      "cell_type": "code",
      "metadata": {
        "id": "gYyR5LKAVrWA",
        "colab_type": "code",
        "colab": {}
      },
      "source": [
        "\"\"\"\n",
        "Placeholders\n",
        "\"\"\"\n",
        "a = None \n",
        "\n",
        "# You're writing a program, and you don't know what your starting value for your 'initial' variable is yet. The program won't run if you leave it blank, but you don't want to forget you need it! Make a workaround.\n",
        "\n"
      ],
      "execution_count": 0,
      "outputs": []
    },
    {
      "cell_type": "markdown",
      "metadata": {
        "id": "ujd4_d5VVrWD",
        "colab_type": "text"
      },
      "source": [
        "\n",
        "\n",
        "### P2.PY\n",
        "\n",
        "\n"
      ]
    },
    {
      "cell_type": "code",
      "metadata": {
        "id": "9p_mg-MjVrWE",
        "colab_type": "code",
        "outputId": "bbab5a7f-c4d8-409e-e985-49fd33c964e3",
        "colab": {
          "base_uri": "https://localhost:8080/",
          "height": 50
        }
      },
      "source": [
        "\"\"\"\n",
        "Basic Variables\n",
        "\"\"\"\n",
        "\n",
        "# Create a variable that represents your favorite number, and add a note to remind yourself what this variable represents. Now print it out without re-typing the number.\n",
        "\n",
        "FavNum = 8  # 8 is my favorite number\n",
        "print (FavNum)\n",
        "\n",
        "FavColor = \"orange\" # love the this color\n",
        "print (FavColor)\n",
        "\n",
        "\n",
        "# Create another variable that represents your favorite color, and do the same steps as above.\n",
        "\n"
      ],
      "execution_count": 0,
      "outputs": [
        {
          "output_type": "stream",
          "text": [
            "8\n",
            "orange\n"
          ],
          "name": "stdout"
        }
      ]
    },
    {
      "cell_type": "markdown",
      "metadata": {
        "id": "VbaMGAAYVrWH",
        "colab_type": "text"
      },
      "source": [
        "\n",
        "\n",
        "### P3.PY\n",
        "\n",
        "\n"
      ]
    },
    {
      "cell_type": "code",
      "metadata": {
        "id": "2i4mFvLGVrWI",
        "colab_type": "code",
        "outputId": "102e45aa-a59f-4d03-d9b3-c4c277d4056c",
        "colab": {
          "base_uri": "https://localhost:8080/",
          "height": 67
        }
      },
      "source": [
        "\"\"\"\n",
        "String Formatting\n",
        "\"\"\"\n",
        "a = \"Song Title: Itsy Bitsy Spyder \\n Author: Old McDonald \\n\"\n",
        "b = \"The itsy bitsy spider went the wall down came the rain and the itsy bitsy spider came down\"\n",
        "\n",
        "print (a,b)\n",
        "# Create a variable that contains the first 4 lines of lyrics from your favorite song. Add a comment that includes the song title and artist **each on their own line**! Now print out this variable.\n",
        "\n"
      ],
      "execution_count": 0,
      "outputs": [
        {
          "output_type": "stream",
          "text": [
            "Song Title: Itsy Bitsy Spyder \n",
            " Author: Old McDonald \n",
            " The itsy bitsy spider went the wall down came the rain and the itsy bitsy spider came down\n"
          ],
          "name": "stdout"
        }
      ]
    },
    {
      "cell_type": "markdown",
      "metadata": {
        "id": "poqjlnEOVrWh",
        "colab_type": "text"
      },
      "source": [
        "## OPERATORS\n",
        "\n",
        "\n",
        "\n"
      ]
    },
    {
      "cell_type": "markdown",
      "metadata": {
        "id": "3j0bS-HcWNLi",
        "colab_type": "text"
      },
      "source": [
        "### P1.PY"
      ]
    },
    {
      "cell_type": "code",
      "metadata": {
        "id": "poP19mJxVrWi",
        "colab_type": "code",
        "outputId": "00197521-3a23-46c9-ff7d-dc438ecbd583",
        "colab": {
          "base_uri": "https://localhost:8080/",
          "height": 202
        }
      },
      "source": [
        "\"\"\"\n",
        "Game Show Score\n",
        "\"\"\"\n",
        "\n",
        "# Imagine the var below represents the latest score of a competitor on a game show. As this person plays, \n",
        "#you need to update their score to reflect gains and losses in points. Each math operation below dictates \n",
        "#the change in the competitor's score to be made after each of his or her actions.\n",
        "\n",
        "# Complete the below math operations and print the results to show the changes in the competitor's \n",
        "# score throughout the game.\n",
        "\n",
        "latest_score = 100\n",
        "print(latest_score)\n",
        "\n",
        "# Add 50\n",
        "a = latest_score + 50\n",
        "print (a)\n",
        "\n",
        "latest_score += 50 \n",
        "print (latest_score)\n",
        "\n",
        "\n",
        "# Subtract 90\n",
        "b = a - 90 \n",
        "print (b)\n",
        "\n",
        "latest_score -=90\n",
        "print (latest_score)\n",
        "\n",
        "\n",
        "# Multiply 10\n",
        "c = b*10\n",
        "print (c)\n",
        "\n",
        "latest_score *= 10\n",
        "print (latest_score)\n",
        "\n",
        "\n",
        "\n",
        "# Divide 150\n",
        "\n",
        "d = c/150\n",
        "print (d)\n",
        "latest_score /= 150\n",
        "print (latest_score)\n",
        "\n",
        "\n",
        "\n",
        "# Modulus 3\n",
        "\n",
        "e = d % 3\n",
        "print (e)\n",
        "latest_score %=3\n",
        "print (latest_score)\n",
        "\n",
        "\n",
        "\n"
      ],
      "execution_count": 0,
      "outputs": [
        {
          "output_type": "stream",
          "text": [
            "100\n",
            "150\n",
            "150\n",
            "60\n",
            "60\n",
            "600\n",
            "600\n",
            "4.0\n",
            "4.0\n",
            "1.0\n",
            "1.0\n"
          ],
          "name": "stdout"
        }
      ]
    },
    {
      "cell_type": "markdown",
      "metadata": {
        "id": "WAYZJHHgVrWk",
        "colab_type": "text"
      },
      "source": [
        "\n",
        "\n",
        "### P2.PY\n",
        "\n",
        "\n"
      ]
    },
    {
      "cell_type": "code",
      "metadata": {
        "id": "P067XIZ8VrWl",
        "colab_type": "code",
        "outputId": "92805eff-2f74-44e7-a741-dfe1deb7af7d",
        "colab": {
          "base_uri": "https://localhost:8080/",
          "height": 34
        }
      },
      "source": [
        "\"\"\"\n",
        "String Operators\n",
        "\"\"\"\n",
        "\n",
        "a = \"I'll go to work today\"\n",
        "b = \", and I'll go to happy hour.\"\n",
        "\n",
        "print (a+b)\n",
        "\n",
        "\n",
        "# Create two variables, each of which is half of a compound sentence. \n",
        "## Example compound sentence: \"I'll go to the beach today, and I'll go snorkeling.\" "
      ],
      "execution_count": 0,
      "outputs": [
        {
          "output_type": "stream",
          "text": [
            "I'll go to work today, and I'll go to happy hour.\n"
          ],
          "name": "stdout"
        }
      ]
    },
    {
      "cell_type": "markdown",
      "metadata": {
        "id": "TqqaKHjuVrWn",
        "colab_type": "text"
      },
      "source": [
        "\n",
        "\n",
        "### P3.PY\n",
        "\n",
        "\n"
      ]
    },
    {
      "cell_type": "code",
      "metadata": {
        "id": "H7kysyPYVrWo",
        "colab_type": "code",
        "outputId": "f812f46d-5599-4d09-b583-249ba0bdfb01",
        "colab": {
          "base_uri": "https://localhost:8080/",
          "height": 118
        }
      },
      "source": [
        "\"\"\"\n",
        "Addition I - Numbers & Strings\n",
        "\"\"\"\n",
        "\n",
        "# Add the below sets of variables together without causing any Type Errors. \n",
        "\n",
        "# A)\n",
        "a = 0\n",
        "b = 2\n",
        "\n",
        "print (a+b)\n",
        "\n",
        "\n",
        "\n",
        "# B)\n",
        "c = '0'\n",
        "d = '2'\n",
        "\n",
        "print (c+d)\n",
        "\n",
        "\n",
        "\n",
        "# C)\n",
        "e = '0'\n",
        "f = 2\n",
        "\n",
        "print (int(e)+f)\n",
        "\n",
        "try:\n",
        "  sum_ef = e + f\n",
        "except Exception:\n",
        "    print (\"something went wrong\")\n",
        "\n",
        "\n",
        "try:\n",
        "  sum_ef = e + f\n",
        "except TypeError as typeerror:\n",
        "    print (\"e and f not the same type\")\n",
        "    print (typeerror)\n",
        "except Exception as e:\n",
        "    print (e)"
      ],
      "execution_count": 0,
      "outputs": [
        {
          "output_type": "stream",
          "text": [
            "2\n",
            "02\n",
            "2\n",
            "something went wrong\n",
            "e and f not the same type\n",
            "must be str, not int\n"
          ],
          "name": "stdout"
        }
      ]
    },
    {
      "cell_type": "markdown",
      "metadata": {
        "id": "T4rtuQ1CVrWr",
        "colab_type": "text"
      },
      "source": [
        "\n",
        "\n",
        "### P4.PY\n",
        "\n",
        "\n"
      ]
    },
    {
      "cell_type": "code",
      "metadata": {
        "id": "eCkVtKI8VrWs",
        "colab_type": "code",
        "outputId": "63c3d47e-3f85-4188-d11f-d6f744565f1f",
        "colab": {
          "base_uri": "https://localhost:8080/",
          "height": 67
        }
      },
      "source": [
        "\"\"\"\n",
        "Addition II - Booleans\n",
        "\"\"\"\n",
        "\n",
        "# Add the below sets of variables together.\n",
        "\n",
        "# A)\n",
        "a = True\n",
        "b = True\n",
        "\n",
        "print (a+b)\n",
        "\n",
        "\n",
        "# B)\n",
        "c = False\n",
        "d = False\n",
        "\n",
        "print (c+d)\n",
        "\n",
        "\n",
        "\n",
        "# C)\n",
        "e = True\n",
        "f = False\n",
        "print (e+f)"
      ],
      "execution_count": 0,
      "outputs": [
        {
          "output_type": "stream",
          "text": [
            "2\n",
            "0\n",
            "1\n"
          ],
          "name": "stdout"
        }
      ]
    },
    {
      "cell_type": "markdown",
      "metadata": {
        "id": "0o8YPHxoVrWL",
        "colab_type": "text"
      },
      "source": [
        "## TYPECASTING\n",
        "\n"
      ]
    },
    {
      "cell_type": "markdown",
      "metadata": {
        "id": "XlNf2YptWKVu",
        "colab_type": "text"
      },
      "source": [
        "### P1.PY"
      ]
    },
    {
      "cell_type": "code",
      "metadata": {
        "id": "LDgWvrWzVrWM",
        "colab_type": "code",
        "outputId": "d9744895-e8a0-4308-b4a9-82225f96ec53",
        "colab": {
          "base_uri": "https://localhost:8080/",
          "height": 286
        }
      },
      "source": [
        "\"\"\"\n",
        "Typcasting w. Integers & Floats\n",
        "\"\"\"\n",
        "\n",
        "# Convert these numbers into floats and back. Print out each result as well as its data type.\n",
        "\n",
        "five = 5\n",
        "zero = 0\n",
        "neg_8 = -8\n",
        "neg_22 = -22\n",
        "\n",
        "print (float(five))\n",
        "print (type(float(five)))\n",
        "print (five)\n",
        "print (type(five))\n",
        "\n",
        "print (float(zero))\n",
        "print (type(float(zero)))\n",
        "print (zero)\n",
        "print (type(zero))\n",
        "\n",
        "print (float (neg_8))\n",
        "print (type(float(neg_8)))\n",
        "print (neg_8)\n",
        "print (type(neg_8))\n",
        "\n",
        "print (float (neg_22))\n",
        "print (type(float(neg_22)))\n",
        "print (neg_22)\n",
        "print (type(neg_22))\n",
        "\n",
        "\n"
      ],
      "execution_count": 0,
      "outputs": [
        {
          "output_type": "stream",
          "text": [
            "5.0\n",
            "<class 'float'>\n",
            "5\n",
            "<class 'int'>\n",
            "0.0\n",
            "<class 'float'>\n",
            "0\n",
            "<class 'int'>\n",
            "-8.0\n",
            "<class 'float'>\n",
            "-8\n",
            "<class 'int'>\n",
            "-22.0\n",
            "<class 'float'>\n",
            "-22\n",
            "<class 'int'>\n"
          ],
          "name": "stdout"
        }
      ]
    },
    {
      "cell_type": "markdown",
      "metadata": {
        "id": "HWOwfU00VrWS",
        "colab_type": "text"
      },
      "source": [
        "\n",
        "\n",
        "### P2.PY\n",
        "\n",
        "\n"
      ]
    },
    {
      "cell_type": "code",
      "metadata": {
        "id": "_5-k5J4mVrWT",
        "colab_type": "code",
        "outputId": "6bb3ca64-dedd-42b7-ee31-f33fe52bb568",
        "colab": {
          "base_uri": "https://localhost:8080/",
          "height": 353
        }
      },
      "source": [
        "\"\"\"\n",
        "Typcasting w. Strings\n",
        "\"\"\"\n",
        "\n",
        "# Convert these variables into strings and then back to their original data \n",
        "# types. Print out each result as well as its data type. What do you notice about the last one?\n",
        "\n",
        "five = 5\n",
        "zero = 0\n",
        "neg_8 = -8\n",
        "T = True\n",
        "F = False\n",
        "\n",
        "print (str(five))\n",
        "print (type(str(five)))\n",
        "print (five)\n",
        "print (type(five))\n",
        "\n",
        "print (str(zero))\n",
        "print (type(str(zero)))\n",
        "print (zero)\n",
        "print (type(zero))\n",
        "\n",
        "print (str(neg_8))\n",
        "print (type(str(neg_8)))\n",
        "print (neg_8)\n",
        "print (type(neg_8))\n",
        "\n",
        "print (str(T))\n",
        "print (type(str(T)))\n",
        "print (T)\n",
        "print (type(T))\n",
        "\n",
        "print (str(F))\n",
        "print (type(str(F)))\n",
        "print (F)\n",
        "print (type(F))"
      ],
      "execution_count": 0,
      "outputs": [
        {
          "output_type": "stream",
          "text": [
            "5\n",
            "<class 'str'>\n",
            "5\n",
            "<class 'int'>\n",
            "0\n",
            "<class 'str'>\n",
            "0\n",
            "<class 'int'>\n",
            "-8\n",
            "<class 'str'>\n",
            "-8\n",
            "<class 'int'>\n",
            "True\n",
            "<class 'str'>\n",
            "True\n",
            "<class 'bool'>\n",
            "False\n",
            "<class 'str'>\n",
            "False\n",
            "<class 'bool'>\n"
          ],
          "name": "stdout"
        }
      ]
    },
    {
      "cell_type": "markdown",
      "metadata": {
        "id": "FO_LansxVrWV",
        "colab_type": "text"
      },
      "source": [
        "\n",
        "\n",
        "### P3.PY\n",
        "\n",
        "\n"
      ]
    },
    {
      "cell_type": "code",
      "metadata": {
        "id": "bSVcghffVrWW",
        "colab_type": "code",
        "outputId": "e7349d5a-cf5a-4c66-f4d5-f09ca7aadbc3",
        "colab": {
          "base_uri": "https://localhost:8080/",
          "height": 168
        }
      },
      "source": [
        "\"\"\"\n",
        "Booleans I - Typecasting w. Numbers\n",
        "\"\"\"\n",
        "\n",
        "# A) Use typecasting to turn these variables into boolean values. \n",
        "# Print the result and the datatype of the result. \n",
        "\n",
        "one = 1\n",
        "zero = 0\n",
        "\n",
        "print(bool(one), type(bool(one)))\n",
        "print (bool(zero), type(bool(zero)))\n",
        "\n",
        "# B) Use typecasting to turn the resultant variables from part A into floats. \n",
        "# Print the result and the datatype of the result.\n",
        "\n",
        "print(float(one), type(float(one))) \n",
        "print(float(zero),type (float(zero)))\n",
        "\n",
        "\n",
        "# C) Use typecasting to turn the resultant variables from part B back into booleans. \n",
        "# Print the result and the datatype of the result.\n",
        "print(bool(one), type(bool(one)))\n",
        "print (bool(zero), type(bool(zero)))\n",
        "\n",
        "# C) Use typecasting to turn the resultant variables from part C into integers. \n",
        "# Print the result and the datatype of the result.\n",
        "\n",
        "print (one, type(one))\n",
        "print (zero, type(zero))\n",
        "\n",
        "# E) Use typecasting to turn the variable below into a boolean value. \n",
        "# Print the result and the datatype of the result. \n",
        "\n",
        "ten = 10\n",
        "\n",
        "print (bool(ten), type(bool(ten)))\n",
        "\n"
      ],
      "execution_count": 0,
      "outputs": [
        {
          "output_type": "stream",
          "text": [
            "True <class 'bool'>\n",
            "False <class 'bool'>\n",
            "1.0 <class 'float'>\n",
            "0.0 <class 'float'>\n",
            "True <class 'bool'>\n",
            "False <class 'bool'>\n",
            "1 <class 'int'>\n",
            "0 <class 'int'>\n",
            "True <class 'bool'>\n"
          ],
          "name": "stdout"
        }
      ]
    },
    {
      "cell_type": "markdown",
      "metadata": {
        "id": "Q7lEbfSQVrWc",
        "colab_type": "text"
      },
      "source": [
        "\n",
        "\n",
        "### P4.PY\n",
        "\n",
        "\n"
      ]
    },
    {
      "cell_type": "code",
      "metadata": {
        "id": "YFLt2TDXVrWf",
        "colab_type": "code",
        "outputId": "337dfc52-9746-4633-d2a3-f84c7882e427",
        "colab": {
          "base_uri": "https://localhost:8080/",
          "height": 151
        }
      },
      "source": [
        "\"\"\"\n",
        "Booleans II - Typecasting w. Strings\n",
        "\"\"\"\n",
        "\n",
        "# A) Use typecasting to turn these variables into boolean values. \n",
        "# Print the result and the datatype of the result. \n",
        "\n",
        "one = 1\n",
        "zero = 0\n",
        "T = True\n",
        "F = False\n",
        "\n",
        "print(bool(one), type(bool(one)))\n",
        "print (bool(zero), type(bool(zero)))\n",
        "print (int(T), type(int(T)))\n",
        "print (int(F), type(int(F)))\n",
        "\n",
        "# B) Use typecasting to turn the latest values for variables 'one' and 'zero' \n",
        "# back into integers. Print the result and the datatype of the result.\n",
        "print (one, type(one))\n",
        "print (zero, type(zero))\n",
        "\n",
        "\n",
        "# C) Use typecasting to turn the latest values for variables 'T' and 'F' back into boolean values. \n",
        "# Print the result and the datatype of the result.\n",
        "\n",
        "\n",
        "print (type(T))\n",
        "print (type(F))\n",
        "\n"
      ],
      "execution_count": 0,
      "outputs": [
        {
          "output_type": "stream",
          "text": [
            "True <class 'bool'>\n",
            "False <class 'bool'>\n",
            "1 <class 'int'>\n",
            "0 <class 'int'>\n",
            "1 <class 'int'>\n",
            "0 <class 'int'>\n",
            "<class 'bool'>\n",
            "<class 'bool'>\n"
          ],
          "name": "stdout"
        }
      ]
    },
    {
      "cell_type": "markdown",
      "metadata": {
        "id": "pRORE6K8VrWy",
        "colab_type": "text"
      },
      "source": [
        "## SHOPPING_LIST\n",
        "\n",
        "\n"
      ]
    },
    {
      "cell_type": "markdown",
      "metadata": {
        "id": "sX291wpjWQea",
        "colab_type": "text"
      },
      "source": [
        "### P1.PY"
      ]
    },
    {
      "cell_type": "code",
      "metadata": {
        "id": "kH5HZBmiVrWy",
        "colab_type": "code",
        "outputId": "2f254347-158c-4fcf-9fa8-c30f879c2542",
        "colab": {
          "base_uri": "https://localhost:8080/",
          "height": 101
        }
      },
      "source": [
        "\"\"\"\n",
        "Shopping List Calculator I\n",
        "\"\"\"\n",
        "\n",
        "# Create five variables,\n",
        "# set them to strings that represent 5 common shopping list items\n",
        "\n",
        "\n",
        "item_name_1 = 'apples'\n",
        "item_name_2 = 'bread'\n",
        "item_name_3 = 'milk'\n",
        "item_name_4 = 'oranges'\n",
        "item_name_5 = 'chips'\n",
        "\n",
        "# Create five more variables,\n",
        "# set them to floats that represent the prices of each of the items above\n",
        "\n",
        "item_price_1 = 0.50\n",
        "item_price_2 = 2.50\n",
        "item_price_3 = 3.00\n",
        "item_price_4 = 0.50\n",
        "item_price_5 = 5.00\n",
        "\n",
        "# Create five more variables,\n",
        "# set them to ints that represent the quantity of each of the items above\n",
        "item_quant_1 = 3\n",
        "item_quant_2 = 1\n",
        "item_quant_3 = 1\n",
        "item_quant_4 = 5\n",
        "item_quant_5 = 2\n",
        "\n",
        "# Print to the console the name and price of each item defined above as follows:\n",
        "# 1 Coco Puffs = $8.95.\n",
        "# where:\n",
        "# 1 would be item_quant_1\n",
        "# Coco Puffs would be item_name_1\n",
        "# 8.95 would be item_name_2\n",
        "\n",
        "print (f'{item_quant_1} {item_name_1} = ${item_price_1*item_quant_1}.')\n",
        "print (f'{item_quant_2} {item_name_2} = ${item_price_2*item_quant_2}.')\n",
        "print (f'{item_quant_3} {item_name_3} = ${item_price_2*item_quant_3}.')\n",
        "print (f'{item_quant_4} {item_name_4} = ${item_price_2*item_quant_4}.')\n",
        "print (f'{item_quant_5} {item_name_5} = ${item_price_2*item_quant_5}.')\n"
      ],
      "execution_count": 0,
      "outputs": [
        {
          "output_type": "stream",
          "text": [
            "3 apple = $1.5.\n",
            "1 bread = $2.5.\n",
            "1 milk = $2.5.\n",
            "5 orange = $12.5.\n",
            "2 chips = $5.0.\n"
          ],
          "name": "stdout"
        }
      ]
    },
    {
      "cell_type": "markdown",
      "metadata": {
        "id": "tr50TO3xVrW1",
        "colab_type": "text"
      },
      "source": [
        "\n",
        "\n",
        "### P2.PY\n",
        "\n",
        "\n"
      ]
    },
    {
      "cell_type": "code",
      "metadata": {
        "id": "_6WnvYbpVrW2",
        "colab_type": "code",
        "outputId": "58c11930-3be2-45c1-8ba6-9842170c77b0",
        "colab": {
          "base_uri": "https://localhost:8080/",
          "height": 353
        }
      },
      "source": [
        "\"\"\"\n",
        "Shopping List Calculator II\n",
        "\"\"\"\n",
        "\n",
        "# Rewrite p1, but this time use the input() command to solicit user input for \n",
        "# name, price, quantity. Here's how it works:\n",
        "\n",
        "##aitem_name_1 = input('Name your first item: ') \n",
        "\t# ^ this will ask user to input value of item_name_1\n",
        "\n",
        "# use input() function and ask user to name items\n",
        "item_name_1 = input('List your first item:')\n",
        "item_name_2 = input('List your second item:')\n",
        "item_name_3 = input('List your third item:')\n",
        "item_name_4 = input('List your fourth item:')\n",
        "item_name_5 = input('List your fifth item:')\n",
        "\n",
        "# use input() function and ask user to name prices\n",
        "item_price_1 = float(input('What is the price of your first item?'))\n",
        "item_price_2 = float(input('How much is your second item?'))\n",
        "item_price_3 = float(input('How much is your third item?'))\n",
        "item_price_4 = float(input('How much is your fourth item?'))\n",
        "item_price_5 = float(input('How much is your fifth item?'))\n",
        "\n",
        "# use input() function and ask user to name quants\n",
        "item_quant_1 = int(input('How many of item one do you have?'))\n",
        "item_quant_2 = int(input('How many of item two do you have?'))\n",
        "item_quant_3 = int(input('How many of item three do you have?'))\n",
        "item_quant_4 = int(input('How many of item four do you have?'))\n",
        "item_quant_5 = int(input('How many of item five do you have?'))\n",
        "\n",
        "print (f'{item_quant_1} {item_name_1} = ${item_quant_1*item_price_1}.')\n",
        "print (f'{item_quant_2} {item_name_2} = ${item_quant_2*item_price_2}.')\n",
        "print (f'{item_quant_3} {item_name_3} = ${item_quant_3*item_price_3}.')\n",
        "print (f'{item_quant_4} {item_name_4} = ${item_quant_4*item_price_4}.')\n",
        "print (f'{item_quant_5} {item_name_5} = ${item_quant_5*item_price_5}.')\n",
        "\n",
        "\n",
        "# Print to the console the name and price of each item defined above as follows:\n",
        "# 1 Coco Puffs = $8.95.\n",
        "# where:\n",
        "# 1 would be item_quant_1\n",
        "# Coco Puffs would be item_name_1\n",
        "# 8.95 would be item_name_2\n",
        "\n",
        "# JUST REMEMBER: now this will be defined by the user!!\n"
      ],
      "execution_count": 0,
      "outputs": [
        {
          "output_type": "stream",
          "text": [
            "List your first item:apple\n",
            "List your second item:banna\n",
            "List your third item:bread\n",
            "List your fourth item:turkey\n",
            "List your fifth item:ginger\n",
            "What is the price of your first item?4.5\n",
            "How much is your second item?3.4\n",
            "How much is your third item?3.6\n",
            "How much is your fourth item?3\n",
            "How much is your fifth item?8\n",
            "How many of item one do you have?5\n",
            "How many of item two do you have?4\n",
            "How many of item three do you have?6\n",
            "How many of item four do you have?7\n",
            "How many of item five do you have?8\n",
            "5 apple = $22.5.\n",
            "4 banna = $13.6.\n",
            "6 bread = $21.6.\n",
            "7 turkey = $21.0.\n",
            "8 ginger = $64.0.\n"
          ],
          "name": "stdout"
        }
      ]
    },
    {
      "cell_type": "markdown",
      "metadata": {
        "id": "vgZcfv-zVrW4",
        "colab_type": "text"
      },
      "source": [
        "\n"
      ]
    }
  ]
}